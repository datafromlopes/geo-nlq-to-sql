{
 "cells": [
  {
   "cell_type": "code",
   "id": "initial_id",
   "metadata": {
    "collapsed": true,
    "ExecuteTime": {
     "end_time": "2025-10-02T23:37:23.306354Z",
     "start_time": "2025-10-02T23:37:18.196571Z"
    }
   },
   "source": [
    "import polars as pl\n",
    "import spacy\n",
    "import os\n",
    "from sklearn.feature_extraction.text import TfidfVectorizer\n",
    "\n",
    "pl.Config(tbl_width_chars=1000)"
   ],
   "outputs": [
    {
     "data": {
      "text/plain": [
       "<polars.config.Config at 0x1095e1af0>"
      ]
     },
     "execution_count": 1,
     "metadata": {},
     "output_type": "execute_result"
    }
   ],
   "execution_count": 1
  },
  {
   "metadata": {
    "ExecuteTime": {
     "end_time": "2025-10-02T23:37:51.989774Z",
     "start_time": "2025-10-02T23:37:51.984466Z"
    }
   },
   "cell_type": "code",
   "source": [
    "DATASET = f\"{os.getcwd()}/data/base_dataset.parquet\"\n",
    "DATASET"
   ],
   "id": "7749204c0a870dc3",
   "outputs": [
    {
     "data": {
      "text/plain": [
       "'/Users/diegolopes/repositories/geo-nlq-to-sql/data/base_dataset.parquet'"
      ]
     },
     "execution_count": 4,
     "metadata": {},
     "output_type": "execute_result"
    }
   ],
   "execution_count": 4
  },
  {
   "metadata": {
    "ExecuteTime": {
     "end_time": "2025-10-02T23:37:53.951339Z",
     "start_time": "2025-10-02T23:37:53.916462Z"
    }
   },
   "cell_type": "code",
   "source": [
    "df = pl.scan_parquet(DATASET)\n",
    "df"
   ],
   "id": "a48cb091af08232f",
   "outputs": [
    {
     "data": {
      "text/plain": [
       "<LazyFrame at 0x1423077F0>"
      ],
      "text/html": [
       "<i>naive plan: (run <b>LazyFrame.explain(optimized=True)</b> to see the optimized plan)</i>\n",
       "    <p></p>\n",
       "    <div>Parquet SCAN [/Users/diegolopes/repositories/geo-nlq-to-sql/data/base_dataset.parquet]<p></p>PROJECT */6 COLUMNS</div>"
      ]
     },
     "execution_count": 5,
     "metadata": {},
     "output_type": "execute_result"
    }
   ],
   "execution_count": 5
  },
  {
   "metadata": {
    "ExecuteTime": {
     "end_time": "2025-10-02T05:11:34.890738Z",
     "start_time": "2025-10-02T05:11:34.847089Z"
    }
   },
   "cell_type": "code",
   "source": "df.head().collect()",
   "id": "36f96990ca838cf3",
   "outputs": [
    {
     "data": {
      "text/plain": [
       "shape: (5, 6)\n",
       "┌─────┬─────────────────────────────────┬──────────────────────┬───────┬──────────────────────┬──────────────────┐\n",
       "│ id  ┆ question                        ┆ territorial_division ┆ level ┆ geospatial_functions ┆ sql_code         │\n",
       "│ --- ┆ ---                             ┆ ---                  ┆ ---   ┆ ---                  ┆ ---              │\n",
       "│ i64 ┆ str                             ┆ str                  ┆ str   ┆ str                  ┆ str              │\n",
       "╞═════╪═════════════════════════════════╪══════════════════════╪═══════╪══════════════════════╪══════════════════╡\n",
       "│ 1   ┆ Quais escolas urbanas ficam em… ┆ País                 ┆ Facíl ┆ ST_Intersects        ┆ SELECT           │\n",
       "│     ┆                                 ┆                      ┆       ┆                      ┆   e.cd_entidade, │\n",
       "│     ┆                                 ┆                      ┆       ┆                      ┆   m.cd…          │\n",
       "│ 2   ┆ Quais bibliotecas com CEP ause… ┆ País                 ┆ Facíl ┆ ST_Intersects        ┆ SELECT           │\n",
       "│     ┆                                 ┆                      ┆       ┆                      ┆   b.cd_bib,      │\n",
       "│     ┆                                 ┆                      ┆       ┆                      ┆   b.nm_bib,…     │\n",
       "│ 3   ┆ Quais CRAS dos estados SP e PR… ┆ País                 ┆ Facíl ┆ ST_Intersects        ┆ SELECT           │\n",
       "│     ┆                                 ┆                      ┆       ┆                      ┆   c.nu_identif,  │\n",
       "│     ┆                                 ┆                      ┆       ┆                      ┆   c.nm_…         │\n",
       "│ 4   ┆ Quais CREAS com CEP preenchido… ┆ País                 ┆ Facíl ┆ ST_Intersects        ┆ SELECT           │\n",
       "│     ┆                                 ┆                      ┆       ┆                      ┆   r.nu_identif,  │\n",
       "│     ┆                                 ┆                      ┆       ┆                      ┆   r.nm_…         │\n",
       "│ 5   ┆ Relacione grandes regiões e se… ┆ País                 ┆ Facíl ┆ ST_Intersects        ┆ SELECT           │\n",
       "│     ┆                                 ┆                      ┆       ┆                      ┆   r.cd_regia,    │\n",
       "│     ┆                                 ┆                      ┆       ┆                      ┆   r.nm_re…       │\n",
       "└─────┴─────────────────────────────────┴──────────────────────┴───────┴──────────────────────┴──────────────────┘"
      ],
      "text/html": [
       "<div><style>\n",
       ".dataframe > thead > tr,\n",
       ".dataframe > tbody > tr {\n",
       "  text-align: right;\n",
       "  white-space: pre-wrap;\n",
       "}\n",
       "</style>\n",
       "<small>shape: (5, 6)</small><table border=\"1\" class=\"dataframe\"><thead><tr><th>id</th><th>question</th><th>territorial_division</th><th>level</th><th>geospatial_functions</th><th>sql_code</th></tr><tr><td>i64</td><td>str</td><td>str</td><td>str</td><td>str</td><td>str</td></tr></thead><tbody><tr><td>1</td><td>&quot;Quais escolas urbanas ficam em…</td><td>&quot;País&quot;</td><td>&quot;Facíl&quot;</td><td>&quot;ST_Intersects&quot;</td><td>&quot;SELECT\n",
       "&nbsp;&nbsp;e.cd_entidade,\n",
       "&nbsp;&nbsp;m.cd…</td></tr><tr><td>2</td><td>&quot;Quais bibliotecas com CEP ause…</td><td>&quot;País&quot;</td><td>&quot;Facíl&quot;</td><td>&quot;ST_Intersects&quot;</td><td>&quot;SELECT\n",
       "&nbsp;&nbsp;b.cd_bib,\n",
       "&nbsp;&nbsp;b.nm_bib,…</td></tr><tr><td>3</td><td>&quot;Quais CRAS dos estados SP e PR…</td><td>&quot;País&quot;</td><td>&quot;Facíl&quot;</td><td>&quot;ST_Intersects&quot;</td><td>&quot;SELECT\n",
       "&nbsp;&nbsp;c.nu_identif,\n",
       "&nbsp;&nbsp;c.nm_…</td></tr><tr><td>4</td><td>&quot;Quais CREAS com CEP preenchido…</td><td>&quot;País&quot;</td><td>&quot;Facíl&quot;</td><td>&quot;ST_Intersects&quot;</td><td>&quot;SELECT\n",
       "&nbsp;&nbsp;r.nu_identif,\n",
       "&nbsp;&nbsp;r.nm_…</td></tr><tr><td>5</td><td>&quot;Relacione grandes regiões e se…</td><td>&quot;País&quot;</td><td>&quot;Facíl&quot;</td><td>&quot;ST_Intersects&quot;</td><td>&quot;SELECT\n",
       "&nbsp;&nbsp;r.cd_regia,\n",
       "&nbsp;&nbsp;r.nm_re…</td></tr></tbody></table></div>"
      ]
     },
     "execution_count": 137,
     "metadata": {},
     "output_type": "execute_result"
    }
   ],
   "execution_count": 137
  },
  {
   "metadata": {
    "ExecuteTime": {
     "end_time": "2025-10-02T04:06:59.259425Z",
     "start_time": "2025-10-02T04:06:59.240336Z"
    }
   },
   "cell_type": "code",
   "source": "df.write_parquet(f\"{os.getcwd()}/data/dataset_base.parquet\")",
   "id": "f17d1aa79a8233ea",
   "outputs": [],
   "execution_count": 129
  },
  {
   "metadata": {
    "ExecuteTime": {
     "end_time": "2025-10-01T22:29:43.962369Z",
     "start_time": "2025-10-01T22:29:42.653492Z"
    }
   },
   "cell_type": "code",
   "source": "nlp = spacy.load('pt_core_news_lg')",
   "id": "e1e128138956c9ba",
   "outputs": [],
   "execution_count": 63
  },
  {
   "metadata": {
    "ExecuteTime": {
     "end_time": "2025-10-01T22:31:43.018835Z",
     "start_time": "2025-10-01T22:31:40.948350Z"
    }
   },
   "cell_type": "code",
   "source": [
    "documents = []\n",
    "\n",
    "for row in df.iter_rows():\n",
    "    documents.append(nlp(row[1]))"
   ],
   "id": "5cb62066d8813a66",
   "outputs": [],
   "execution_count": 65
  },
  {
   "metadata": {
    "ExecuteTime": {
     "end_time": "2025-10-02T23:57:18.065300Z",
     "start_time": "2025-10-02T23:57:18.027033Z"
    }
   },
   "cell_type": "code",
   "source": [
    "corpus = df.collect()['question'].to_list()\n",
    "vectorizer = TfidfVectorizer(stop_words=['?'])\n",
    "X = vectorizer.fit_transform(corpus)"
   ],
   "id": "e5b1269fb68c0d79",
   "outputs": [],
   "execution_count": 38
  },
  {
   "metadata": {
    "ExecuteTime": {
     "end_time": "2025-10-02T23:42:50.439940Z",
     "start_time": "2025-10-02T23:42:50.434635Z"
    }
   },
   "cell_type": "code",
   "source": "type(X)",
   "id": "2ec70e27dc1fc68e",
   "outputs": [
    {
     "data": {
      "text/plain": [
       "scipy.sparse._csr.csr_matrix"
      ]
     },
     "execution_count": 13,
     "metadata": {},
     "output_type": "execute_result"
    }
   ],
   "execution_count": 13
  },
  {
   "metadata": {
    "ExecuteTime": {
     "end_time": "2025-10-01T23:02:42.269910Z",
     "start_time": "2025-10-01T23:02:42.264383Z"
    }
   },
   "cell_type": "code",
   "source": "vectorizer.vocabulary_['urbanas']",
   "id": "7ccb67cf551f6c50",
   "outputs": [
    {
     "data": {
      "text/plain": [
       "1158"
      ]
     },
     "execution_count": 116,
     "metadata": {},
     "output_type": "execute_result"
    }
   ],
   "execution_count": 116
  },
  {
   "metadata": {
    "ExecuteTime": {
     "end_time": "2025-10-02T23:57:21.229939Z",
     "start_time": "2025-10-02T23:57:21.225581Z"
    }
   },
   "cell_type": "code",
   "source": [
    "feature_names = vectorizer.get_feature_names_out()\n",
    "type(feature_names)"
   ],
   "id": "dd7cda018a8334be",
   "outputs": [
    {
     "data": {
      "text/plain": [
       "numpy.ndarray"
      ]
     },
     "execution_count": 39,
     "metadata": {},
     "output_type": "execute_result"
    }
   ],
   "execution_count": 39
  },
  {
   "metadata": {
    "ExecuteTime": {
     "end_time": "2025-10-01T23:03:16.224163Z",
     "start_time": "2025-10-01T23:03:16.210462Z"
    }
   },
   "cell_type": "code",
   "source": "X[0, 1158]",
   "id": "2ce4dec8c03f861b",
   "outputs": [
    {
     "data": {
      "text/plain": [
       "np.float64(0.36136261353612775)"
      ]
     },
     "execution_count": 117,
     "metadata": {},
     "output_type": "execute_result"
    }
   ],
   "execution_count": 117
  },
  {
   "metadata": {
    "ExecuteTime": {
     "end_time": "2025-10-02T23:57:25.257111Z",
     "start_time": "2025-10-02T23:57:25.252632Z"
    }
   },
   "cell_type": "code",
   "source": [
    "doc = 0\n",
    "feature_index = X[doc,:].nonzero()[1]\n",
    "tfidf_scores = zip(feature_index, [X[doc, x] for x in feature_index])"
   ],
   "id": "182f7c9a7061c2b7",
   "outputs": [],
   "execution_count": 40
  },
  {
   "metadata": {
    "ExecuteTime": {
     "end_time": "2025-10-02T23:50:56.873967Z",
     "start_time": "2025-10-02T23:50:56.868704Z"
    }
   },
   "cell_type": "code",
   "source": "tfidf_scores",
   "id": "a6be58c7defafe3b",
   "outputs": [
    {
     "data": {
      "text/plain": [
       "<zip at 0x142356c00>"
      ]
     },
     "execution_count": 21,
     "metadata": {},
     "output_type": "execute_result"
    }
   ],
   "execution_count": 21
  },
  {
   "metadata": {
    "ExecuteTime": {
     "end_time": "2025-10-02T23:49:15.557753Z",
     "start_time": "2025-10-02T23:49:15.524194Z"
    }
   },
   "cell_type": "code",
   "source": "pl.DataFrame(tfidf_scores)",
   "id": "53935c45abe1a5ac",
   "outputs": [
    {
     "data": {
      "text/plain": [
       "shape: (14, 2)\n",
       "┌──────────┬──────────┐\n",
       "│ column_0 ┆ column_1 │\n",
       "│ ---      ┆ ---      │\n",
       "│ i64      ┆ f64      │\n",
       "╞══════════╪══════════╡\n",
       "│ 930      ┆ 0.156042 │\n",
       "│ 444      ┆ 0.105574 │\n",
       "│ 1158     ┆ 0.361363 │\n",
       "│ 492      ┆ 0.210794 │\n",
       "│ 424      ┆ 0.137929 │\n",
       "│ …        ┆ …        │\n",
       "│ 622      ┆ 0.364332 │\n",
       "│ 758      ┆ 0.295955 │\n",
       "│ 574      ┆ 0.479705 │\n",
       "│ 871      ┆ 0.161823 │\n",
       "│ 1090     ┆ 0.255257 │\n",
       "└──────────┴──────────┘"
      ],
      "text/html": [
       "<div><style>\n",
       ".dataframe > thead > tr,\n",
       ".dataframe > tbody > tr {\n",
       "  text-align: right;\n",
       "  white-space: pre-wrap;\n",
       "}\n",
       "</style>\n",
       "<small>shape: (14, 2)</small><table border=\"1\" class=\"dataframe\"><thead><tr><th>column_0</th><th>column_1</th></tr><tr><td>i64</td><td>f64</td></tr></thead><tbody><tr><td>930</td><td>0.156042</td></tr><tr><td>444</td><td>0.105574</td></tr><tr><td>1158</td><td>0.361363</td></tr><tr><td>492</td><td>0.210794</td></tr><tr><td>424</td><td>0.137929</td></tr><tr><td>&hellip;</td><td>&hellip;</td></tr><tr><td>622</td><td>0.364332</td></tr><tr><td>758</td><td>0.295955</td></tr><tr><td>574</td><td>0.479705</td></tr><tr><td>871</td><td>0.161823</td></tr><tr><td>1090</td><td>0.255257</td></tr></tbody></table></div>"
      ]
     },
     "execution_count": 17,
     "metadata": {},
     "output_type": "execute_result"
    }
   ],
   "execution_count": 17
  },
  {
   "metadata": {
    "ExecuteTime": {
     "end_time": "2025-10-02T23:57:31.763684Z",
     "start_time": "2025-10-02T23:57:31.757471Z"
    }
   },
   "cell_type": "code",
   "source": [
    "mapping = [(w,s) for w, s in [(feature_names[i], s) for (i, s) in tfidf_scores]]\n",
    "\n",
    "mapping"
   ],
   "id": "ec279ef4776c3af1",
   "outputs": [
    {
     "data": {
      "text/plain": [
       "[]"
      ]
     },
     "execution_count": 43,
     "metadata": {},
     "output_type": "execute_result"
    }
   ],
   "execution_count": 43
  },
  {
   "metadata": {
    "ExecuteTime": {
     "end_time": "2025-10-02T23:39:47.080845Z",
     "start_time": "2025-10-02T23:39:47.074409Z"
    }
   },
   "cell_type": "code",
   "source": [
    "l1 = [1,2,3,4]\n",
    "l2 = [5,6,7,8]\n",
    "\n",
    "list(zip(l1,l2))"
   ],
   "id": "67d3db50cf5dd0b0",
   "outputs": [
    {
     "data": {
      "text/plain": [
       "[(1, 5), (2, 6), (3, 7), (4, 8)]"
      ]
     },
     "execution_count": 9,
     "metadata": {},
     "output_type": "execute_result"
    }
   ],
   "execution_count": 9
  },
  {
   "metadata": {},
   "cell_type": "code",
   "outputs": [],
   "execution_count": null,
   "source": "",
   "id": "26705139f353eee"
  }
 ],
 "metadata": {
  "kernelspec": {
   "display_name": "Python 3",
   "language": "python",
   "name": "python3"
  },
  "language_info": {
   "codemirror_mode": {
    "name": "ipython",
    "version": 2
   },
   "file_extension": ".py",
   "mimetype": "text/x-python",
   "name": "python",
   "nbconvert_exporter": "python",
   "pygments_lexer": "ipython2",
   "version": "2.7.6"
  }
 },
 "nbformat": 4,
 "nbformat_minor": 5
}
