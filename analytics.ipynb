{
 "cells": [
  {
   "cell_type": "code",
   "id": "initial_id",
   "metadata": {
    "collapsed": true,
    "ExecuteTime": {
     "end_time": "2025-10-02T04:01:50.949417Z",
     "start_time": "2025-10-02T04:01:50.899540Z"
    }
   },
   "source": [
    "import polars as pl\n",
    "import spacy\n",
    "import os\n",
    "from sklearn.feature_extraction.text import TfidfVectorizer\n",
    "\n",
    "pl.Config(tbl_width_chars=1000)"
   ],
   "outputs": [
    {
     "data": {
      "text/plain": [
       "<polars.config.Config at 0x1562ab850>"
      ]
     },
     "execution_count": 120,
     "metadata": {},
     "output_type": "execute_result"
    }
   ],
   "execution_count": 120
  },
  {
   "metadata": {
    "ExecuteTime": {
     "end_time": "2025-10-02T05:07:55.544260Z",
     "start_time": "2025-10-02T05:07:55.510597Z"
    }
   },
   "cell_type": "code",
   "source": [
    "DATASET = f\"{os.getcwd()}/data/dataset_base.parquet\"\n",
    "DATASET"
   ],
   "id": "7749204c0a870dc3",
   "outputs": [
    {
     "data": {
      "text/plain": [
       "'/Users/diegolopes/repositories/geo-nlq-to-sql/data/dataset_base.parquet'"
      ]
     },
     "execution_count": 130,
     "metadata": {},
     "output_type": "execute_result"
    }
   ],
   "execution_count": 130
  },
  {
   "metadata": {
    "ExecuteTime": {
     "end_time": "2025-10-02T05:11:30.443345Z",
     "start_time": "2025-10-02T05:11:30.263347Z"
    }
   },
   "cell_type": "code",
   "source": [
    "df = pl.scan_parquet(DATASET)\n",
    "df"
   ],
   "id": "a48cb091af08232f",
   "outputs": [
    {
     "data": {
      "text/plain": [
       "<LazyFrame at 0x13945C970>"
      ],
      "text/html": [
       "<i>naive plan: (run <b>LazyFrame.explain(optimized=True)</b> to see the optimized plan)</i>\n",
       "    <p></p>\n",
       "    <div>Parquet SCAN [/Users/diegolopes/repositories/geo-nlq-to-sql/data/dataset_base.parquet]<p></p>PROJECT */6 COLUMNS</div>"
      ]
     },
     "execution_count": 136,
     "metadata": {},
     "output_type": "execute_result"
    }
   ],
   "execution_count": 136
  },
  {
   "metadata": {
    "ExecuteTime": {
     "end_time": "2025-10-02T05:11:34.890738Z",
     "start_time": "2025-10-02T05:11:34.847089Z"
    }
   },
   "cell_type": "code",
   "source": "df.head().collect()",
   "id": "36f96990ca838cf3",
   "outputs": [
    {
     "data": {
      "text/plain": [
       "shape: (5, 6)\n",
       "┌─────┬─────────────────────────────────┬──────────────────────┬───────┬──────────────────────┬──────────────────┐\n",
       "│ id  ┆ question                        ┆ territorial_division ┆ level ┆ geospatial_functions ┆ sql_code         │\n",
       "│ --- ┆ ---                             ┆ ---                  ┆ ---   ┆ ---                  ┆ ---              │\n",
       "│ i64 ┆ str                             ┆ str                  ┆ str   ┆ str                  ┆ str              │\n",
       "╞═════╪═════════════════════════════════╪══════════════════════╪═══════╪══════════════════════╪══════════════════╡\n",
       "│ 1   ┆ Quais escolas urbanas ficam em… ┆ País                 ┆ Facíl ┆ ST_Intersects        ┆ SELECT           │\n",
       "│     ┆                                 ┆                      ┆       ┆                      ┆   e.cd_entidade, │\n",
       "│     ┆                                 ┆                      ┆       ┆                      ┆   m.cd…          │\n",
       "│ 2   ┆ Quais bibliotecas com CEP ause… ┆ País                 ┆ Facíl ┆ ST_Intersects        ┆ SELECT           │\n",
       "│     ┆                                 ┆                      ┆       ┆                      ┆   b.cd_bib,      │\n",
       "│     ┆                                 ┆                      ┆       ┆                      ┆   b.nm_bib,…     │\n",
       "│ 3   ┆ Quais CRAS dos estados SP e PR… ┆ País                 ┆ Facíl ┆ ST_Intersects        ┆ SELECT           │\n",
       "│     ┆                                 ┆                      ┆       ┆                      ┆   c.nu_identif,  │\n",
       "│     ┆                                 ┆                      ┆       ┆                      ┆   c.nm_…         │\n",
       "│ 4   ┆ Quais CREAS com CEP preenchido… ┆ País                 ┆ Facíl ┆ ST_Intersects        ┆ SELECT           │\n",
       "│     ┆                                 ┆                      ┆       ┆                      ┆   r.nu_identif,  │\n",
       "│     ┆                                 ┆                      ┆       ┆                      ┆   r.nm_…         │\n",
       "│ 5   ┆ Relacione grandes regiões e se… ┆ País                 ┆ Facíl ┆ ST_Intersects        ┆ SELECT           │\n",
       "│     ┆                                 ┆                      ┆       ┆                      ┆   r.cd_regia,    │\n",
       "│     ┆                                 ┆                      ┆       ┆                      ┆   r.nm_re…       │\n",
       "└─────┴─────────────────────────────────┴──────────────────────┴───────┴──────────────────────┴──────────────────┘"
      ],
      "text/html": [
       "<div><style>\n",
       ".dataframe > thead > tr,\n",
       ".dataframe > tbody > tr {\n",
       "  text-align: right;\n",
       "  white-space: pre-wrap;\n",
       "}\n",
       "</style>\n",
       "<small>shape: (5, 6)</small><table border=\"1\" class=\"dataframe\"><thead><tr><th>id</th><th>question</th><th>territorial_division</th><th>level</th><th>geospatial_functions</th><th>sql_code</th></tr><tr><td>i64</td><td>str</td><td>str</td><td>str</td><td>str</td><td>str</td></tr></thead><tbody><tr><td>1</td><td>&quot;Quais escolas urbanas ficam em…</td><td>&quot;País&quot;</td><td>&quot;Facíl&quot;</td><td>&quot;ST_Intersects&quot;</td><td>&quot;SELECT\n",
       "&nbsp;&nbsp;e.cd_entidade,\n",
       "&nbsp;&nbsp;m.cd…</td></tr><tr><td>2</td><td>&quot;Quais bibliotecas com CEP ause…</td><td>&quot;País&quot;</td><td>&quot;Facíl&quot;</td><td>&quot;ST_Intersects&quot;</td><td>&quot;SELECT\n",
       "&nbsp;&nbsp;b.cd_bib,\n",
       "&nbsp;&nbsp;b.nm_bib,…</td></tr><tr><td>3</td><td>&quot;Quais CRAS dos estados SP e PR…</td><td>&quot;País&quot;</td><td>&quot;Facíl&quot;</td><td>&quot;ST_Intersects&quot;</td><td>&quot;SELECT\n",
       "&nbsp;&nbsp;c.nu_identif,\n",
       "&nbsp;&nbsp;c.nm_…</td></tr><tr><td>4</td><td>&quot;Quais CREAS com CEP preenchido…</td><td>&quot;País&quot;</td><td>&quot;Facíl&quot;</td><td>&quot;ST_Intersects&quot;</td><td>&quot;SELECT\n",
       "&nbsp;&nbsp;r.nu_identif,\n",
       "&nbsp;&nbsp;r.nm_…</td></tr><tr><td>5</td><td>&quot;Relacione grandes regiões e se…</td><td>&quot;País&quot;</td><td>&quot;Facíl&quot;</td><td>&quot;ST_Intersects&quot;</td><td>&quot;SELECT\n",
       "&nbsp;&nbsp;r.cd_regia,\n",
       "&nbsp;&nbsp;r.nm_re…</td></tr></tbody></table></div>"
      ]
     },
     "execution_count": 137,
     "metadata": {},
     "output_type": "execute_result"
    }
   ],
   "execution_count": 137
  },
  {
   "metadata": {
    "ExecuteTime": {
     "end_time": "2025-10-02T04:06:59.259425Z",
     "start_time": "2025-10-02T04:06:59.240336Z"
    }
   },
   "cell_type": "code",
   "source": "df.write_parquet(f\"{os.getcwd()}/data/dataset_base.parquet\")",
   "id": "f17d1aa79a8233ea",
   "outputs": [],
   "execution_count": 129
  },
  {
   "metadata": {
    "ExecuteTime": {
     "end_time": "2025-10-01T22:29:43.962369Z",
     "start_time": "2025-10-01T22:29:42.653492Z"
    }
   },
   "cell_type": "code",
   "source": "nlp = spacy.load('pt_core_news_lg')",
   "id": "e1e128138956c9ba",
   "outputs": [],
   "execution_count": 63
  },
  {
   "metadata": {
    "ExecuteTime": {
     "end_time": "2025-10-01T22:31:43.018835Z",
     "start_time": "2025-10-01T22:31:40.948350Z"
    }
   },
   "cell_type": "code",
   "source": [
    "documents = []\n",
    "\n",
    "for row in df.iter_rows():\n",
    "    documents.append(nlp(row[1]))"
   ],
   "id": "5cb62066d8813a66",
   "outputs": [],
   "execution_count": 65
  },
  {
   "metadata": {
    "ExecuteTime": {
     "end_time": "2025-10-01T22:51:57.374369Z",
     "start_time": "2025-10-01T22:51:57.328453Z"
    }
   },
   "cell_type": "code",
   "source": [
    "corpus = df['question'].to_list()\n",
    "vectorizer = TfidfVectorizer(stop_words=['?', '.', '!'])\n",
    "X = vectorizer.fit_transform(corpus)"
   ],
   "id": "e5b1269fb68c0d79",
   "outputs": [],
   "execution_count": 89
  },
  {
   "metadata": {
    "ExecuteTime": {
     "end_time": "2025-10-01T22:52:04.833835Z",
     "start_time": "2025-10-01T22:52:04.827403Z"
    }
   },
   "cell_type": "code",
   "source": "list(vectorizer.get_stop_words())",
   "id": "2ec70e27dc1fc68e",
   "outputs": [
    {
     "data": {
      "text/plain": [
       "['!', '?', '.']"
      ]
     },
     "execution_count": 91,
     "metadata": {},
     "output_type": "execute_result"
    }
   ],
   "execution_count": 91
  },
  {
   "metadata": {
    "ExecuteTime": {
     "end_time": "2025-10-01T23:02:42.269910Z",
     "start_time": "2025-10-01T23:02:42.264383Z"
    }
   },
   "cell_type": "code",
   "source": "vectorizer.vocabulary_['urbanas']",
   "id": "7ccb67cf551f6c50",
   "outputs": [
    {
     "data": {
      "text/plain": [
       "1158"
      ]
     },
     "execution_count": 116,
     "metadata": {},
     "output_type": "execute_result"
    }
   ],
   "execution_count": 116
  },
  {
   "metadata": {
    "ExecuteTime": {
     "end_time": "2025-10-01T23:04:18.763193Z",
     "start_time": "2025-10-01T23:04:18.757198Z"
    }
   },
   "cell_type": "code",
   "source": [
    "feature_names = vectorizer.get_feature_names_out()\n",
    "feature_names[1158]"
   ],
   "id": "dd7cda018a8334be",
   "outputs": [
    {
     "data": {
      "text/plain": [
       "'urbanas'"
      ]
     },
     "execution_count": 119,
     "metadata": {},
     "output_type": "execute_result"
    }
   ],
   "execution_count": 119
  },
  {
   "metadata": {
    "ExecuteTime": {
     "end_time": "2025-10-01T23:03:16.224163Z",
     "start_time": "2025-10-01T23:03:16.210462Z"
    }
   },
   "cell_type": "code",
   "source": "X[0, 1158]",
   "id": "2ce4dec8c03f861b",
   "outputs": [
    {
     "data": {
      "text/plain": [
       "np.float64(0.36136261353612775)"
      ]
     },
     "execution_count": 117,
     "metadata": {},
     "output_type": "execute_result"
    }
   ],
   "execution_count": 117
  },
  {
   "metadata": {
    "ExecuteTime": {
     "end_time": "2025-10-01T23:01:50.669967Z",
     "start_time": "2025-10-01T23:01:50.664247Z"
    }
   },
   "cell_type": "code",
   "source": [
    "doc = 0\n",
    "feature_index = X[doc,:].nonzero()[1]\n",
    "tfidf_scores = zip(feature_index, [X[doc, x] for x in feature_index])"
   ],
   "id": "182f7c9a7061c2b7",
   "outputs": [],
   "execution_count": 113
  },
  {
   "metadata": {
    "ExecuteTime": {
     "end_time": "2025-10-01T23:01:53.751974Z",
     "start_time": "2025-10-01T23:01:53.746344Z"
    }
   },
   "cell_type": "code",
   "source": "tfidf_scores",
   "id": "a6be58c7defafe3b",
   "outputs": [
    {
     "data": {
      "text/plain": [
       "<zip at 0x1564193c0>"
      ]
     },
     "execution_count": 114,
     "metadata": {},
     "output_type": "execute_result"
    }
   ],
   "execution_count": 114
  },
  {
   "metadata": {
    "ExecuteTime": {
     "end_time": "2025-10-01T23:01:54.758667Z",
     "start_time": "2025-10-01T23:01:54.752854Z"
    }
   },
   "cell_type": "code",
   "source": [
    "for w, s in [(feature_names[i], s) for (i, s) in tfidf_scores]:\n",
    "  print(f'{w} - {s}')"
   ],
   "id": "ec279ef4776c3af1",
   "outputs": [
    {
     "name": "stdout",
     "output_type": "stream",
     "text": [
      "quais - 0.15604167824789855\n",
      "escolas - 0.10557360964668408\n",
      "urbanas - 0.36136261353612775\n",
      "ficam - 0.21079411387058986\n",
      "em - 0.13792899320918345\n",
      "municípios - 0.24803302700837976\n",
      "com - 0.13657820733020737\n",
      "área - 0.20147902818623423\n",
      "000 - 0.32849464610891094\n",
      "km2 - 0.36433207330096\n",
      "nome - 0.29595500667806557\n",
      "iniciando - 0.4797054460348449\n",
      "por - 0.16182313396680487\n",
      "são - 0.2552565684608787\n"
     ]
    }
   ],
   "execution_count": 115
  },
  {
   "metadata": {},
   "cell_type": "code",
   "outputs": [],
   "execution_count": null,
   "source": "",
   "id": "67d3db50cf5dd0b0"
  }
 ],
 "metadata": {
  "kernelspec": {
   "display_name": "Python 3",
   "language": "python",
   "name": "python3"
  },
  "language_info": {
   "codemirror_mode": {
    "name": "ipython",
    "version": 2
   },
   "file_extension": ".py",
   "mimetype": "text/x-python",
   "name": "python",
   "nbconvert_exporter": "python",
   "pygments_lexer": "ipython2",
   "version": "2.7.6"
  }
 },
 "nbformat": 4,
 "nbformat_minor": 5
}
