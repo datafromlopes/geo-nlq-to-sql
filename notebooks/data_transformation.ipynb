{
 "cells": [
  {
   "cell_type": "code",
   "execution_count": 1,
   "id": "4dbeb0e9-e761-49d0-b3fe-1ee3c9a8d209",
   "metadata": {
    "pycharm": {
     "is_executing": true,
     "name": "#%%\n"
    }
   },
   "outputs": [],
   "source": [
    "import pandas as pd"
   ]
  },
  {
   "cell_type": "code",
   "execution_count": 9,
   "id": "91b560da-a195-457b-93b5-96f0a5f82d6d",
   "metadata": {
    "pycharm": {
     "name": "#%%\n"
    }
   },
   "outputs": [],
   "source": [
    "DATASET_PATH = \"/Users/diegolopes/Documents/Education/Graduate/MasterDegree/Research/datasets/spider\"\n",
    "PROJECT_PATH = \"/Users/diegolopes/Repositories/ms-usp-text-to-sql\""
   ]
  },
  {
   "cell_type": "code",
   "execution_count": 10,
   "id": "cadef05e-ee51-4afa-ad1a-cbe5baf71500",
   "metadata": {
    "pycharm": {
     "name": "#%%\n"
    }
   },
   "outputs": [],
   "source": [
    "df1 = pd.read_json(f\"{DATASET_PATH}/train_others.json\")\n",
    "df2 = pd.read_json(f\"{DATASET_PATH}/train_spider.json\")"
   ]
  },
  {
   "cell_type": "code",
   "execution_count": 11,
   "id": "3c07de29-7a46-46d9-80a1-910012914793",
   "metadata": {
    "pycharm": {
     "name": "#%%\n"
    }
   },
   "outputs": [],
   "source": [
    "df1 = df1.loc[df1['db_id'] == 'geo'][['question', 'query']]\n",
    "df2 = df2[['question', 'query']]\n",
    "\n",
    "df = pd.concat([df1, df2])\n",
    "\n",
    "df.to_csv(f\"{PROJECT_PATH}/data/spider_dataset.csv\", index=False)\n",
    "df1.to_csv(f\"{PROJECT_PATH}/data/geo_dataset.csv\", index=False)"
   ]
  },
  {
   "cell_type": "code",
   "execution_count": 13,
   "id": "6d6aa661-7a37-4976-abb9-cbdbd102ffa0",
   "metadata": {},
   "outputs": [
    {
     "data": {
      "text/html": [
       "<div>\n",
       "<style scoped>\n",
       "    .dataframe tbody tr th:only-of-type {\n",
       "        vertical-align: middle;\n",
       "    }\n",
       "\n",
       "    .dataframe tbody tr th {\n",
       "        vertical-align: top;\n",
       "    }\n",
       "\n",
       "    .dataframe thead th {\n",
       "        text-align: right;\n",
       "    }\n",
       "</style>\n",
       "<table border=\"1\" class=\"dataframe\">\n",
       "  <thead>\n",
       "    <tr style=\"text-align: right;\">\n",
       "      <th></th>\n",
       "      <th>question</th>\n",
       "      <th>query</th>\n",
       "    </tr>\n",
       "  </thead>\n",
       "  <tbody>\n",
       "    <tr>\n",
       "      <th>0</th>\n",
       "      <td>what is the biggest city in wyoming</td>\n",
       "      <td>SELECT city_name FROM city WHERE population  =...</td>\n",
       "    </tr>\n",
       "    <tr>\n",
       "      <th>1</th>\n",
       "      <td>what wyoming city has the largest population</td>\n",
       "      <td>SELECT city_name FROM city WHERE population  =...</td>\n",
       "    </tr>\n",
       "    <tr>\n",
       "      <th>2</th>\n",
       "      <td>what is the largest city in wyoming</td>\n",
       "      <td>SELECT city_name FROM city WHERE population  =...</td>\n",
       "    </tr>\n",
       "    <tr>\n",
       "      <th>3</th>\n",
       "      <td>where is the most populated area of wyoming</td>\n",
       "      <td>SELECT city_name FROM city WHERE population  =...</td>\n",
       "    </tr>\n",
       "    <tr>\n",
       "      <th>4</th>\n",
       "      <td>which city in wyoming has the largest population</td>\n",
       "      <td>SELECT city_name FROM city WHERE population  =...</td>\n",
       "    </tr>\n",
       "  </tbody>\n",
       "</table>\n",
       "</div>"
      ],
      "text/plain": [
       "                                           question  \\\n",
       "0               what is the biggest city in wyoming   \n",
       "1      what wyoming city has the largest population   \n",
       "2               what is the largest city in wyoming   \n",
       "3       where is the most populated area of wyoming   \n",
       "4  which city in wyoming has the largest population   \n",
       "\n",
       "                                               query  \n",
       "0  SELECT city_name FROM city WHERE population  =...  \n",
       "1  SELECT city_name FROM city WHERE population  =...  \n",
       "2  SELECT city_name FROM city WHERE population  =...  \n",
       "3  SELECT city_name FROM city WHERE population  =...  \n",
       "4  SELECT city_name FROM city WHERE population  =...  "
      ]
     },
     "execution_count": 13,
     "metadata": {},
     "output_type": "execute_result"
    }
   ],
   "source": [
    "df.head()"
   ]
  },
  {
   "cell_type": "code",
   "execution_count": 16,
   "id": "788c2e66-8f2d-49fb-a080-d760dc02880f",
   "metadata": {},
   "outputs": [
    {
     "data": {
      "text/plain": [
       "15128"
      ]
     },
     "execution_count": 16,
     "metadata": {},
     "output_type": "execute_result"
    }
   ],
   "source": [
    "df.size"
   ]
  },
  {
   "cell_type": "code",
   "execution_count": 19,
   "id": "85e31d3c-41a0-4ad8-8ff2-10cdee83d8cd",
   "metadata": {},
   "outputs": [
    {
     "data": {
      "text/plain": [
       "1128"
      ]
     },
     "execution_count": 19,
     "metadata": {},
     "output_type": "execute_result"
    }
   ],
   "source": [
    "df1.size"
   ]
  }
 ],
 "metadata": {
  "kernelspec": {
   "display_name": "Python 3 (ipykernel)",
   "language": "python",
   "name": "python3"
  },
  "language_info": {
   "codemirror_mode": {
    "name": "ipython",
    "version": 3
   },
   "file_extension": ".py",
   "mimetype": "text/x-python",
   "name": "python",
   "nbconvert_exporter": "python",
   "pygments_lexer": "ipython3",
   "version": "3.12.3"
  }
 },
 "nbformat": 4,
 "nbformat_minor": 5
}