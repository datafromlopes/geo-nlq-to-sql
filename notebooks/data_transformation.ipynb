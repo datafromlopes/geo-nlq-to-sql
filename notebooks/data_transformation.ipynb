{
 "cells": [
  {
   "cell_type": "code",
   "execution_count": 1,
   "id": "4dbeb0e9-e761-49d0-b3fe-1ee3c9a8d209",
   "metadata": {
    "pycharm": {
     "is_executing": true,
     "name": "#%%\n"
    }
   },
   "outputs": [],
   "source": [
    "import pandas as pd"
   ]
  },
  {
   "cell_type": "code",
   "execution_count": 2,
   "id": "91b560da-a195-457b-93b5-96f0a5f82d6d",
   "metadata": {
    "pycharm": {
     "name": "#%%\n"
    }
   },
   "outputs": [],
   "source": [
    "DATASET_PATH = \"/Users/diegolopes/Documents/Education/Graduate/MasterDegree/Research/datasets/spider\"\n",
    "PROJECT_PATH = \"/Users/diegolopes/Repositories/ms-usp-text-to-sql\""
   ]
  },
  {
   "cell_type": "code",
   "execution_count": 25,
   "id": "cadef05e-ee51-4afa-ad1a-cbe5baf71500",
   "metadata": {
    "pycharm": {
     "name": "#%%\n"
    }
   },
   "outputs": [],
   "source": [
    "df1 = pd.read_json(f\"{DATASET_PATH}/train_others.json\")\n",
    "df2 = pd.read_json(f\"{DATASET_PATH}/train_spider.json\")\n",
    "\n",
    "df = pd.concat([df1, df2])"
   ]
  },
  {
   "cell_type": "code",
   "execution_count": 11,
   "id": "3c07de29-7a46-46d9-80a1-910012914793",
   "metadata": {
    "pycharm": {
     "name": "#%%\n"
    }
   },
   "outputs": [],
   "source": [
    "df1 = df1.loc[df1['db_id'] == 'geo'][['question', 'query']]\n",
    "df2 = df2[['question', 'query']]"
   ]
  },
  {
   "cell_type": "code",
   "execution_count": 27,
   "id": "6d6aa661-7a37-4976-abb9-cbdbd102ffa0",
   "metadata": {},
   "outputs": [
    {
     "data": {
      "text/html": [
       "<div>\n",
       "<style scoped>\n",
       "    .dataframe tbody tr th:only-of-type {\n",
       "        vertical-align: middle;\n",
       "    }\n",
       "\n",
       "    .dataframe tbody tr th {\n",
       "        vertical-align: top;\n",
       "    }\n",
       "\n",
       "    .dataframe thead th {\n",
       "        text-align: right;\n",
       "    }\n",
       "</style>\n",
       "<table border=\"1\" class=\"dataframe\">\n",
       "  <thead>\n",
       "    <tr style=\"text-align: right;\">\n",
       "      <th></th>\n",
       "      <th>db_id</th>\n",
       "      <th>question</th>\n",
       "      <th>query</th>\n",
       "    </tr>\n",
       "  </thead>\n",
       "  <tbody>\n",
       "    <tr>\n",
       "      <th>0</th>\n",
       "      <td>geo</td>\n",
       "      <td>what is the biggest city in wyoming</td>\n",
       "      <td>SELECT city_name FROM city WHERE population  =...</td>\n",
       "    </tr>\n",
       "    <tr>\n",
       "      <th>1</th>\n",
       "      <td>geo</td>\n",
       "      <td>what wyoming city has the largest population</td>\n",
       "      <td>SELECT city_name FROM city WHERE population  =...</td>\n",
       "    </tr>\n",
       "    <tr>\n",
       "      <th>2</th>\n",
       "      <td>geo</td>\n",
       "      <td>what is the largest city in wyoming</td>\n",
       "      <td>SELECT city_name FROM city WHERE population  =...</td>\n",
       "    </tr>\n",
       "    <tr>\n",
       "      <th>3</th>\n",
       "      <td>geo</td>\n",
       "      <td>where is the most populated area of wyoming</td>\n",
       "      <td>SELECT city_name FROM city WHERE population  =...</td>\n",
       "    </tr>\n",
       "    <tr>\n",
       "      <th>4</th>\n",
       "      <td>geo</td>\n",
       "      <td>which city in wyoming has the largest population</td>\n",
       "      <td>SELECT city_name FROM city WHERE population  =...</td>\n",
       "    </tr>\n",
       "  </tbody>\n",
       "</table>\n",
       "</div>"
      ],
      "text/plain": [
       "  db_id                                          question  \\\n",
       "0   geo               what is the biggest city in wyoming   \n",
       "1   geo      what wyoming city has the largest population   \n",
       "2   geo               what is the largest city in wyoming   \n",
       "3   geo       where is the most populated area of wyoming   \n",
       "4   geo  which city in wyoming has the largest population   \n",
       "\n",
       "                                               query  \n",
       "0  SELECT city_name FROM city WHERE population  =...  \n",
       "1  SELECT city_name FROM city WHERE population  =...  \n",
       "2  SELECT city_name FROM city WHERE population  =...  \n",
       "3  SELECT city_name FROM city WHERE population  =...  \n",
       "4  SELECT city_name FROM city WHERE population  =...  "
      ]
     },
     "execution_count": 27,
     "metadata": {},
     "output_type": "execute_result"
    }
   ],
   "source": [
    "df[['db_id', 'question', 'query']].head()"
   ]
  },
  {
   "cell_type": "code",
   "execution_count": 39,
   "id": "781ab913-6cea-41e6-8277-acd4769461cd",
   "metadata": {},
   "outputs": [
    {
     "data": {
      "text/plain": [
       "8659"
      ]
     },
     "execution_count": 39,
     "metadata": {},
     "output_type": "execute_result"
    }
   ],
   "source": [
    "df['query'].count()"
   ]
  },
  {
   "cell_type": "code",
   "execution_count": 38,
   "id": "26858f67-41f2-4b71-9c7f-331208aa4220",
   "metadata": {},
   "outputs": [
    {
     "data": {
      "text/plain": [
       "query    564\n",
       "dtype: int64"
      ]
     },
     "execution_count": 38,
     "metadata": {},
     "output_type": "execute_result"
    }
   ],
   "source": [
    "df.loc[df['db_id'] == 'geo'][['query']].count()"
   ]
  }
 ],
 "metadata": {
  "kernelspec": {
   "display_name": "Python 3 (ipykernel)",
   "language": "python",
   "name": "python3"
  },
  "language_info": {
   "codemirror_mode": {
    "name": "ipython",
    "version": 3
   },
   "file_extension": ".py",
   "mimetype": "text/x-python",
   "name": "python",
   "nbconvert_exporter": "python",
   "pygments_lexer": "ipython3",
   "version": "3.12.3"
  }
 },
 "nbformat": 4,
 "nbformat_minor": 5
}
