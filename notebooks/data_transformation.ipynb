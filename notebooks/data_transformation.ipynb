{
 "cells": [
  {
   "cell_type": "code",
   "execution_count": 1,
   "id": "4bcf376a-acf5-4ddd-9c7a-a47d9a838fca",
   "metadata": {},
   "outputs": [],
   "source": [
    "import pandas as pd"
   ]
  },
  {
   "cell_type": "code",
   "execution_count": 31,
   "id": "87a30275-8721-4d86-95f9-d7dc0aac9067",
   "metadata": {},
   "outputs": [],
   "source": [
    "DATASET_PATH = \"/Users/diegolopes/Documents/Education/Graduate/MasterDegree/Research/datasets/spider\"\n",
    "PROJECT_PATH = \"/Users/diegolopes/Repositories/ms-usp-text-to-sql\""
   ]
  },
  {
   "cell_type": "code",
   "execution_count": 26,
   "id": "bad5a59f-6d80-4d48-94be-665546403b1b",
   "metadata": {},
   "outputs": [],
   "source": [
    "df1 = pd.read_json(f\"{DATASET_PATH}/train_others.json\")\n",
    "df2 = pd.read_json(f\"{DATASET_PATH}/train_spider.json\")"
   ]
  },
  {
   "cell_type": "code",
   "execution_count": 27,
   "id": "a9699960-b3f8-41cb-9ffe-ca7ca17db4f0",
   "metadata": {},
   "outputs": [],
   "source": [
    "df1 = df1.loc[df1['db_id'] == 'geo'][['question', 'query']]\n",
    "df2 = df2[['question', 'query']]\n",
    "\n",
    "df = pd.concat([df1, df2])\n",
    "\n",
    "del df1\n",
    "del df2"
   ]
  },
  {
   "cell_type": "code",
   "execution_count": 33,
   "id": "2e1975cf-247e-4898-a6f6-b0e4e80e6265",
   "metadata": {},
   "outputs": [],
   "source": [
    "total_rows = len(df)\n",
    "quantities = [int(pct * total_rows) for pct in [0.80, 0.10, 0.10]]\n",
    "\n",
    "df_1 = df.sample(n=quantities[0])\n",
    "df_2 = df.sample(n=quantities[1])\n",
    "df_3 = df.sample(n=quantities[2])\n",
    "\n",
    "df_1.to_csv(f\"{PROJECT_PATH}/data/training_data.csv\", index=False)\n",
    "df_2.to_csv(f\"{PROJECT_PATH}/data/validation_data.csv\", index=False)\n",
    "df_3.to_csv(f\"{PROJECT_PATH}/data/test_data.csv\", index=False)"
   ]
  },
  {
   "cell_type": "code",
   "execution_count": 10,
   "id": "7f8d3692-d8af-4a4e-9381-35c74fa4df51",
   "metadata": {},
   "outputs": [],
   "source": [
    "class Metrics:\n",
    "    def __init__(self, x):\n",
    "        self.x = x\n",
    "\n",
    "    def __getitem__(self, z):\n",
    "        return self.x + z\n",
    "        "
   ]
  },
  {
   "cell_type": "code",
   "execution_count": 11,
   "id": "c8390141-1e08-4511-a661-6455ac7b0970",
   "metadata": {},
   "outputs": [],
   "source": [
    "m = Metrics(5)"
   ]
  },
  {
   "cell_type": "code",
   "execution_count": 14,
   "id": "d8afda87-6ddb-41a5-91c5-a9664e1e7da1",
   "metadata": {},
   "outputs": [
    {
     "data": {
      "text/plain": [
       "12"
      ]
     },
     "execution_count": 14,
     "metadata": {},
     "output_type": "execute_result"
    }
   ],
   "source": [
    "m[7]"
   ]
  }
 ],
 "metadata": {
  "kernelspec": {
   "display_name": "Python 3 (ipykernel)",
   "language": "python",
   "name": "python3"
  },
  "language_info": {
   "codemirror_mode": {
    "name": "ipython",
    "version": 3
   },
   "file_extension": ".py",
   "mimetype": "text/x-python",
   "name": "python",
   "nbconvert_exporter": "python",
   "pygments_lexer": "ipython3",
   "version": "3.10.4"
  }
 },
 "nbformat": 4,
 "nbformat_minor": 5
}
