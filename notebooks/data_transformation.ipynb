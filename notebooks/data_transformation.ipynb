{
 "cells": [
  {
   "cell_type": "code",
   "execution_count": 1,
   "id": "4bcf376a-acf5-4ddd-9c7a-a47d9a838fca",
   "metadata": {
    "pycharm": {
     "name": "#%%\n"
    }
   },
   "outputs": [],
   "source": [
    "import pandas as pd"
   ]
  },
  {
   "cell_type": "code",
   "execution_count": 2,
   "id": "87a30275-8721-4d86-95f9-d7dc0aac9067",
   "metadata": {
    "pycharm": {
     "name": "#%%\n"
    }
   },
   "outputs": [],
   "source": [
    "DATASET_PATH = \"/Users/diegolopes/Documents/Education/Graduate/MasterDegree/Research/datasets/spider\"\n",
    "PROJECT_PATH = \"/Users/diegolopes/Repositories/ms-usp-text-to-sql\""
   ]
  },
  {
   "cell_type": "code",
   "execution_count": 3,
   "id": "bad5a59f-6d80-4d48-94be-665546403b1b",
   "metadata": {
    "pycharm": {
     "name": "#%%\n"
    }
   },
   "outputs": [],
   "source": [
    "df1 = pd.read_json(f\"{DATASET_PATH}/train_others.json\")\n",
    "df2 = pd.read_json(f\"{DATASET_PATH}/train_spider.json\")"
   ]
  },
  {
   "cell_type": "code",
   "execution_count": 4,
   "id": "a9699960-b3f8-41cb-9ffe-ca7ca17db4f0",
   "metadata": {
    "pycharm": {
     "name": "#%%\n"
    }
   },
   "outputs": [],
   "source": [
    "df1 = df1.loc[df1['db_id'] == 'geo'][['question', 'query']]\n",
    "df2 = df2[['question', 'query']]\n",
    "\n",
    "df = pd.concat([df1, df2])\n",
    "\n",
    "del df1\n",
    "del df2"
   ]
  },
  {
   "cell_type": "code",
   "execution_count": 5,
   "id": "2e1975cf-247e-4898-a6f6-b0e4e80e6265",
   "metadata": {
    "pycharm": {
     "name": "#%%\n"
    }
   },
   "outputs": [],
   "source": [
    "df.to_csv(f\"{PROJECT_PATH}/data/spider_dataset.csv\", index=False)"
   ]
  }
 ],
 "metadata": {
  "kernelspec": {
   "display_name": "Python 3 (ipykernel)",
   "language": "python",
   "name": "python3"
  },
  "language_info": {
   "codemirror_mode": {
    "name": "ipython",
    "version": 3
   },
   "file_extension": ".py",
   "mimetype": "text/x-python",
   "name": "python",
   "nbconvert_exporter": "python",
   "pygments_lexer": "ipython3",
   "version": "3.10.4"
  }
 },
 "nbformat": 4,
 "nbformat_minor": 5
}